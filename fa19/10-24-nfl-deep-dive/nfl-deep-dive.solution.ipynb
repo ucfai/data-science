{
 "cells": [
  {
   "cell_type": "markdown",
   "metadata": {
    "tags": [
     "nb-title",
     "template"
    ],
    "title": "Big Data Bowl Deep Dive"
   },
   "source": [
    "<img\n",
    "    style=\"border-radius: 0.5em;\"\n",
    "    src=\"https://ucfai.org/groups/projects/fa19/nfl-deep-dive/banner.png\">\n",
    "\n",
    "<div class=\"col-12\">\n",
    "    <h1> Big Data Bowl Deep Dive </h1>\n",
    "    <hr>\n",
    "</div>\n",
    "\n",
    "<div style=\"line-height: 2em;\">\n",
    "    <p>by: \n",
    "        <a href=\"https://ucfai.org/authors/ahkerrigan\">@ahkerrigan</a> on Oct 24, 2019</p>\n",
    "</div>"
   ]
  },
  {
   "cell_type": "code",
   "execution_count": null,
   "metadata": {
    "language": "python",
    "tags": [
     "template"
    ]
   },
   "outputs": [],
   "source": [
    "from pathlib import Path\n",
    "\n",
    "DATA_DIR = Path(\"/kaggle/input\")\n",
    "if (DATA_DIR / \"ucfai-projects-fa19-nfl-deep-dive\").exists():\n",
    "    DATA_DIR /= \"ucfai-projects-fa19-nfl-deep-dive\"\n",
    "elif DATA_DIR.exists():\n",
    "    # no-op to keep the proper data path for Kaggle\n",
    "    pass\n",
    "else:\n",
    "    # You'll need to download the data from Kaggle and place it in the `data/`\n",
    "    #   directory beside this notebook.\n",
    "    # The data should be here: https://kaggle.com/c/ucfai-projects-fa19-nfl-deep-dive/data\n",
    "    DATA_DIR = Path(\"data\")"
   ]
  }
 ],
 "metadata": {
  "autobot": {
   "abstract": "This week we dive even deeper in to the NFL Big Data Bowl and try to understand  what techniques are needed to achieve a competitive result. Let's fill the leaderboard with AI@UCF!",
   "authors": [
    "ahkerrigan"
   ],
   "date": "2019-10-24T17:30:00",
   "group": "projects",
   "semester": "fa19",
   "tags": [
    "machine learning",
    "data science",
    "football",
    "competition"
   ],
   "title": "Big Data Bowl Deep Dive"
  }
 },
 "nbformat": 4,
 "nbformat_minor": 4
}
