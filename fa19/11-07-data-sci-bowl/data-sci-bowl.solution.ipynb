{
 "cells": [
  {
   "cell_type": "markdown",
   "metadata": {
    "tags": [
     "nb-title",
     "template"
    ],
    "title": "Data Science for Social Good, with PBS KIDS"
   },
   "source": [
    "<img\n",
    "    style=\"border-radius: 0.5em;\"\n",
    "    src=\"https://ucfai.org/groups/projects/fa19/data-sci-bowl/banner.png\">\n",
    "\n",
    "<div class=\"col-12\">\n",
    "    <h1> Data Science for Social Good, with PBS KIDS </h1>\n",
    "    <hr>\n",
    "</div>\n",
    "\n",
    "<div style=\"line-height: 2em;\">\n",
    "    <p>by: \n",
    "        <a href=\"https://ucfai.org/authors/ionlights\">@ionlights</a> on Nov 07, 2019</p>\n",
    "</div>"
   ]
  },
  {
   "cell_type": "code",
   "execution_count": null,
   "metadata": {
    "language": "python",
    "tags": [
     "template"
    ]
   },
   "outputs": [],
   "source": [
    "from pathlib import Path\n",
    "\n",
    "DATA_DIR = Path(\"/kaggle/input\")\n",
    "if (DATA_DIR / \"ucfai-projects-fa19-data-sci-bowl\").exists():\n",
    "    DATA_DIR /= \"ucfai-projects-fa19-data-sci-bowl\"\n",
    "elif DATA_DIR.exists():\n",
    "    # no-op to keep the proper data path for Kaggle\n",
    "    pass\n",
    "else:\n",
    "    # You'll need to download the data from Kaggle and place it in the `data/`\n",
    "    #   directory beside this notebook.\n",
    "    # The data should be here: https://kaggle.com/c/ucfai-projects-fa19-data-sci-bowl/data\n",
    "    DATA_DIR = Path(\"data\")"
   ]
  }
 ],
 "metadata": {
  "autobot": {
   "abstract": "We'll be taking a dive into the Data Science Bowl from Kaggle, live-coding style. Let's work through the dataset together and see what we can pull from it to make some submissions. ",
   "authors": [
    "ionlights"
   ],
   "date": "2019-11-07T17:30:00",
   "group": "projects",
   "semester": "fa19",
   "tags": [
    "machine learning",
    "data science",
    "data visualization",
    "data science bowl",
    "kaggle",
    "live coding"
   ],
   "title": "Data Science for Social Good, with PBS KIDS"
  }
 },
 "nbformat": 4,
 "nbformat_minor": 4
}
